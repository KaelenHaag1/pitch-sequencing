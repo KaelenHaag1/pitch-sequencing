{
 "cells": [
  {
   "cell_type": "code",
   "execution_count": 2,
   "id": "5241c88c",
   "metadata": {},
   "outputs": [],
   "source": [
    "import pandas as pd\n",
    "from pybaseball import statcast\n",
    "pd.set_option('display.max_columns', 500)"
   ]
  },
  {
   "cell_type": "code",
   "execution_count": 3,
   "id": "ef35e313",
   "metadata": {},
   "outputs": [],
   "source": [
    "def fetch_statcast_data(start_date, end_date):\n",
    "    # Fetch data from Statcast\n",
    "    data = statcast(start_date, end_date)\n",
    "    return data"
   ]
  },
  {
   "cell_type": "code",
   "execution_count": 1,
   "id": "337e8755",
   "metadata": {},
   "outputs": [],
   "source": [
    "def process_data(data):\n",
    "    # Filter necessary columns\n",
    "    data = data[['game_date', 'batter', 'pitcher', 'pitch_type', 'events', 'at_bat_number', 'pitch_number']]\n",
    "    \n",
    "    # Drop rows where pitch_type is NaN (happens occasionally in real datasets)\n",
    "    data = data.dropna(subset=['pitch_type'])\n",
    "\n",
    "    # Group data by game, batter, pitcher, and at_bat_number, then sort by pitch_number\n",
    "    # Use apply to ensure the group maintains DataFrame format after sorting\n",
    "    grouped = data.groupby(['game_date', 'batter', 'pitcher', 'at_bat_number']).apply(lambda x: x.sort_values('pitch_number')).reset_index(drop=True)\n",
    "\n",
    "    # We can't directly iterate with multiple unpacks if using apply without specifying 'group_keys=False' in the groupby\n",
    "    # However, by resetting the index, we revert to a single DataFrame and thus lose the direct tuple unpacking ability\n",
    "    # Create a DataFrame to store the sequence, pitcher ID, and at-bat outcome\n",
    "    at_bats = []\n",
    "    for _, group in grouped.groupby(['game_date', 'batter', 'pitcher', 'at_bat_number']):\n",
    "        sequence = ','.join(group['pitch_type'].tolist())\n",
    "        outcome = group['events'].iloc[-1] if not pd.isna(group['events'].iloc[-1]) else 'No event'\n",
    "        pitcher_id = group['pitcher'].iloc[0]\n",
    "        at_bats.append([sequence, pitcher_id, outcome])\n",
    "\n",
    "    # Convert list to DataFrame\n",
    "    result_df = pd.DataFrame(at_bats, columns=['Pitch Sequence', 'Pitcher ID', 'At-Bat Outcome'])\n",
    "    return result_df\n"
   ]
  },
  {
   "cell_type": "code",
   "execution_count": 4,
   "id": "3451eb94",
   "metadata": {},
   "outputs": [],
   "source": [
    "def consolidate_pitch_types(data):\n",
    "    # Mapping dictionary for pitch types\n",
    "    pitch_type_map = {\n",
    "        'CH': 'CH',  # Changeup\n",
    "        'CU': 'CB',  # Curveball\n",
    "        'FC': 'FC',  # Cutter\n",
    "        'EP': 'CH',  # Eephus\n",
    "        'FO': 'CH',  # Forkball\n",
    "        'FF': 'FF',  # Four-Seam Fastball\n",
    "        'KN': 'KN',  # Knuckleball\n",
    "        'KC': 'CB',  # Knuckle-curve\n",
    "        'SC': 'CH',  # Screwball\n",
    "        'SI': 'SI',  # Sinker\n",
    "        'SL': 'SL',  # Slider\n",
    "        'SV': 'CB',  # Slurve\n",
    "        'FS': 'FS',  # Splitter\n",
    "        'ST': 'ST',  # Sweeper\n",
    "        'FA': 'FF',  # Fastball\n",
    "        'PO': 'PO',  # Pitch out\n",
    "        'CS': 'CB'   # Slow Curveball\n",
    "    }\n",
    "    \n",
    "    # Apply the mapping to the pitch_type column\n",
    "    data['pitch_type'] = data['pitch_type'].map(pitch_type_map).fillna(data['pitch_type'])\n",
    "    return data"
   ]
  },
  {
   "cell_type": "code",
   "execution_count": null,
   "id": "dfdc916d",
   "metadata": {},
   "outputs": [],
   "source": [
    "pybaseball.cache.enable()"
   ]
  },
  {
   "cell_type": "code",
   "execution_count": 5,
   "id": "e7cddf70",
   "metadata": {},
   "outputs": [
    {
     "name": "stdout",
     "output_type": "stream",
     "text": [
      "This is a large query, it may take a moment to complete\n"
     ]
    },
    {
     "name": "stderr",
     "output_type": "stream",
     "text": [
      "C:\\Users\\sid22\\anaconda3\\lib\\site-packages\\pybaseball\\statcast.py:50: UserWarning: \n",
      "That's a nice request you got there. It'd be a shame if something were to happen to it.\n",
      "We strongly recommend that you enable caching before running this. It's as simple as `pybaseball.cache.enable()`.\n",
      "Since the Statcast requests can take a *really* long time to run, if something were to happen, like: a disconnect;\n",
      "gremlins; computer repair by associates of Rudy Giuliani; electromagnetic interference from metal trash cans; etc.;\n",
      "you could lose a lot of progress. Enabling caching will allow you to immediately recover all the successful\n",
      "subqueries if that happens.\n",
      "  warnings.warn(_OVERSIZE_WARNING)\n",
      "100%|████████████████████████████████████████████████████████████████████████████████| 213/213 [02:10<00:00,  1.63it/s]\n"
     ]
    }
   ],
   "source": [
    "start_date = '2023-04-01'\n",
    "end_date = '2023-10-30'\n",
    "data = fetch_statcast_data(start_date, end_date)"
   ]
  },
  {
   "cell_type": "code",
   "execution_count": 6,
   "id": "2646efc2",
   "metadata": {},
   "outputs": [
    {
     "data": {
      "text/plain": [
       "Index(['pitch_type', 'game_date', 'release_speed', 'release_pos_x',\n",
       "       'release_pos_z', 'player_name', 'batter', 'pitcher', 'events',\n",
       "       'description', 'spin_dir', 'spin_rate_deprecated',\n",
       "       'break_angle_deprecated', 'break_length_deprecated', 'zone', 'des',\n",
       "       'game_type', 'stand', 'p_throws', 'home_team', 'away_team', 'type',\n",
       "       'hit_location', 'bb_type', 'balls', 'strikes', 'game_year', 'pfx_x',\n",
       "       'pfx_z', 'plate_x', 'plate_z', 'on_3b', 'on_2b', 'on_1b',\n",
       "       'outs_when_up', 'inning', 'inning_topbot', 'hc_x', 'hc_y',\n",
       "       'tfs_deprecated', 'tfs_zulu_deprecated', 'fielder_2', 'umpire', 'sv_id',\n",
       "       'vx0', 'vy0', 'vz0', 'ax', 'ay', 'az', 'sz_top', 'sz_bot',\n",
       "       'hit_distance_sc', 'launch_speed', 'launch_angle', 'effective_speed',\n",
       "       'release_spin_rate', 'release_extension', 'game_pk', 'pitcher.1',\n",
       "       'fielder_2.1', 'fielder_3', 'fielder_4', 'fielder_5', 'fielder_6',\n",
       "       'fielder_7', 'fielder_8', 'fielder_9', 'release_pos_y',\n",
       "       'estimated_ba_using_speedangle', 'estimated_woba_using_speedangle',\n",
       "       'woba_value', 'woba_denom', 'babip_value', 'iso_value',\n",
       "       'launch_speed_angle', 'at_bat_number', 'pitch_number', 'pitch_name',\n",
       "       'home_score', 'away_score', 'bat_score', 'fld_score', 'post_away_score',\n",
       "       'post_home_score', 'post_bat_score', 'post_fld_score',\n",
       "       'if_fielding_alignment', 'of_fielding_alignment', 'spin_axis',\n",
       "       'delta_home_win_exp', 'delta_run_exp', 'bat_speed', 'swing_length'],\n",
       "      dtype='object')"
      ]
     },
     "execution_count": 6,
     "metadata": {},
     "output_type": "execute_result"
    }
   ],
   "source": [
    "data.columns"
   ]
  },
  {
   "cell_type": "code",
   "execution_count": 7,
   "id": "985bab4b",
   "metadata": {},
   "outputs": [],
   "source": [
    "data_pt = consolidate_pitch_types(data)"
   ]
  },
  {
   "cell_type": "code",
   "execution_count": 8,
   "id": "5a5aeb8a",
   "metadata": {},
   "outputs": [
    {
     "data": {
      "text/html": [
       "<div>\n",
       "<style scoped>\n",
       "    .dataframe tbody tr th:only-of-type {\n",
       "        vertical-align: middle;\n",
       "    }\n",
       "\n",
       "    .dataframe tbody tr th {\n",
       "        vertical-align: top;\n",
       "    }\n",
       "\n",
       "    .dataframe thead th {\n",
       "        text-align: right;\n",
       "    }\n",
       "</style>\n",
       "<table border=\"1\" class=\"dataframe\">\n",
       "  <thead>\n",
       "    <tr style=\"text-align: right;\">\n",
       "      <th></th>\n",
       "      <th>game_date</th>\n",
       "      <th>batter</th>\n",
       "      <th>pitcher</th>\n",
       "      <th>pitch_type</th>\n",
       "      <th>events</th>\n",
       "      <th>at_bat_number</th>\n",
       "      <th>pitch_number</th>\n",
       "      <th>player_name</th>\n",
       "    </tr>\n",
       "  </thead>\n",
       "  <tbody>\n",
       "    <tr>\n",
       "      <th>114</th>\n",
       "      <td>2023-10-30</td>\n",
       "      <td>502054</td>\n",
       "      <td>600917</td>\n",
       "      <td>FF</td>\n",
       "      <td>strikeout</td>\n",
       "      <td>66</td>\n",
       "      <td>4</td>\n",
       "      <td>Leclerc, José</td>\n",
       "    </tr>\n",
       "    <tr>\n",
       "      <th>116</th>\n",
       "      <td>2023-10-30</td>\n",
       "      <td>502054</td>\n",
       "      <td>600917</td>\n",
       "      <td>SL</td>\n",
       "      <td>NaN</td>\n",
       "      <td>66</td>\n",
       "      <td>3</td>\n",
       "      <td>Leclerc, José</td>\n",
       "    </tr>\n",
       "    <tr>\n",
       "      <th>124</th>\n",
       "      <td>2023-10-30</td>\n",
       "      <td>502054</td>\n",
       "      <td>600917</td>\n",
       "      <td>SL</td>\n",
       "      <td>NaN</td>\n",
       "      <td>66</td>\n",
       "      <td>2</td>\n",
       "      <td>Leclerc, José</td>\n",
       "    </tr>\n",
       "    <tr>\n",
       "      <th>131</th>\n",
       "      <td>2023-10-30</td>\n",
       "      <td>502054</td>\n",
       "      <td>600917</td>\n",
       "      <td>SI</td>\n",
       "      <td>NaN</td>\n",
       "      <td>66</td>\n",
       "      <td>1</td>\n",
       "      <td>Leclerc, José</td>\n",
       "    </tr>\n",
       "    <tr>\n",
       "      <th>142</th>\n",
       "      <td>2023-10-30</td>\n",
       "      <td>572233</td>\n",
       "      <td>600917</td>\n",
       "      <td>SL</td>\n",
       "      <td>strikeout</td>\n",
       "      <td>65</td>\n",
       "      <td>6</td>\n",
       "      <td>Leclerc, José</td>\n",
       "    </tr>\n",
       "    <tr>\n",
       "      <th>145</th>\n",
       "      <td>2023-10-30</td>\n",
       "      <td>572233</td>\n",
       "      <td>600917</td>\n",
       "      <td>FC</td>\n",
       "      <td>NaN</td>\n",
       "      <td>65</td>\n",
       "      <td>5</td>\n",
       "      <td>Leclerc, José</td>\n",
       "    </tr>\n",
       "    <tr>\n",
       "      <th>162</th>\n",
       "      <td>2023-10-30</td>\n",
       "      <td>572233</td>\n",
       "      <td>600917</td>\n",
       "      <td>SL</td>\n",
       "      <td>NaN</td>\n",
       "      <td>65</td>\n",
       "      <td>4</td>\n",
       "      <td>Leclerc, José</td>\n",
       "    </tr>\n",
       "    <tr>\n",
       "      <th>168</th>\n",
       "      <td>2023-10-30</td>\n",
       "      <td>572233</td>\n",
       "      <td>600917</td>\n",
       "      <td>FF</td>\n",
       "      <td>NaN</td>\n",
       "      <td>65</td>\n",
       "      <td>3</td>\n",
       "      <td>Leclerc, José</td>\n",
       "    </tr>\n",
       "    <tr>\n",
       "      <th>177</th>\n",
       "      <td>2023-10-30</td>\n",
       "      <td>572233</td>\n",
       "      <td>600917</td>\n",
       "      <td>SL</td>\n",
       "      <td>NaN</td>\n",
       "      <td>65</td>\n",
       "      <td>2</td>\n",
       "      <td>Leclerc, José</td>\n",
       "    </tr>\n",
       "    <tr>\n",
       "      <th>183</th>\n",
       "      <td>2023-10-30</td>\n",
       "      <td>572233</td>\n",
       "      <td>600917</td>\n",
       "      <td>FC</td>\n",
       "      <td>NaN</td>\n",
       "      <td>65</td>\n",
       "      <td>1</td>\n",
       "      <td>Leclerc, José</td>\n",
       "    </tr>\n",
       "    <tr>\n",
       "      <th>196</th>\n",
       "      <td>2023-10-30</td>\n",
       "      <td>672515</td>\n",
       "      <td>600917</td>\n",
       "      <td>SL</td>\n",
       "      <td>field_out</td>\n",
       "      <td>64</td>\n",
       "      <td>6</td>\n",
       "      <td>Leclerc, José</td>\n",
       "    </tr>\n",
       "  </tbody>\n",
       "</table>\n",
       "</div>"
      ],
      "text/plain": [
       "     game_date  batter  pitcher pitch_type     events  at_bat_number  \\\n",
       "114 2023-10-30  502054   600917         FF  strikeout             66   \n",
       "116 2023-10-30  502054   600917         SL        NaN             66   \n",
       "124 2023-10-30  502054   600917         SL        NaN             66   \n",
       "131 2023-10-30  502054   600917         SI        NaN             66   \n",
       "142 2023-10-30  572233   600917         SL  strikeout             65   \n",
       "145 2023-10-30  572233   600917         FC        NaN             65   \n",
       "162 2023-10-30  572233   600917         SL        NaN             65   \n",
       "168 2023-10-30  572233   600917         FF        NaN             65   \n",
       "177 2023-10-30  572233   600917         SL        NaN             65   \n",
       "183 2023-10-30  572233   600917         FC        NaN             65   \n",
       "196 2023-10-30  672515   600917         SL  field_out             64   \n",
       "\n",
       "     pitch_number    player_name  \n",
       "114             4  Leclerc, José  \n",
       "116             3  Leclerc, José  \n",
       "124             2  Leclerc, José  \n",
       "131             1  Leclerc, José  \n",
       "142             6  Leclerc, José  \n",
       "145             5  Leclerc, José  \n",
       "162             4  Leclerc, José  \n",
       "168             3  Leclerc, José  \n",
       "177             2  Leclerc, José  \n",
       "183             1  Leclerc, José  \n",
       "196             6  Leclerc, José  "
      ]
     },
     "execution_count": 8,
     "metadata": {},
     "output_type": "execute_result"
    }
   ],
   "source": [
    "data[['game_date', 'batter', 'pitcher', 'pitch_type', 'events', 'at_bat_number','pitch_number','player_name']].head(11)"
   ]
  },
  {
   "cell_type": "code",
   "execution_count": 9,
   "id": "90ef88b4",
   "metadata": {},
   "outputs": [
    {
     "data": {
      "text/plain": [
       "FF    0.324816\n",
       "SL    0.169411\n",
       "SI    0.152475\n",
       "CH    0.110712\n",
       "CB    0.091870\n",
       "FC    0.078273\n",
       "ST    0.049728\n",
       "FS    0.022389\n",
       "KN    0.000263\n",
       "PO    0.000065\n",
       "Name: pitch_type, dtype: float64"
      ]
     },
     "execution_count": 9,
     "metadata": {},
     "output_type": "execute_result"
    }
   ],
   "source": [
    "data_pt.pitch_type.value_counts(normalize=True)"
   ]
  },
  {
   "cell_type": "code",
   "execution_count": 10,
   "id": "a68cbf50",
   "metadata": {},
   "outputs": [
    {
     "name": "stdout",
     "output_type": "stream",
     "text": [
      "         Pitch Sequence  Pitcher ID             At-Bat Outcome\n",
      "0                    SI      621107                field_error\n",
      "1  SI,CB,FC,SI,CB,SI,FF      621107                     single\n",
      "2     ST,ST,SI,SI,ST,ST      676534                       walk\n",
      "3        SI,ST,SI,ST,SI      687330  grounded_into_double_play\n",
      "4     FF,FF,FF,SL,FF,SL      477132                  strikeout\n"
     ]
    }
   ],
   "source": [
    "result_df = process_data(data_pt)\n",
    "print(result_df.head())"
   ]
  },
  {
   "cell_type": "code",
   "execution_count": 11,
   "id": "b2b3d0dd",
   "metadata": {},
   "outputs": [
    {
     "data": {
      "text/plain": [
       "83      Eflin, Zach\n",
       "92      Eflin, Zach\n",
       "96      Eflin, Zach\n",
       "101     Eflin, Zach\n",
       "107     Eflin, Zach\n",
       "           ...     \n",
       "3860    Eflin, Zach\n",
       "3993    Eflin, Zach\n",
       "4188    Eflin, Zach\n",
       "4258    Eflin, Zach\n",
       "4344    Eflin, Zach\n",
       "Name: player_name, Length: 2652, dtype: object"
      ]
     },
     "execution_count": 11,
     "metadata": {},
     "output_type": "execute_result"
    }
   ],
   "source": [
    "data_pt[data_pt['pitcher']==621107]['player_name']"
   ]
  },
  {
   "cell_type": "code",
   "execution_count": 12,
   "id": "6158d007",
   "metadata": {},
   "outputs": [
    {
     "data": {
      "text/plain": [
       "(185538, 3)"
      ]
     },
     "execution_count": 12,
     "metadata": {},
     "output_type": "execute_result"
    }
   ],
   "source": [
    "result_df.shape"
   ]
  },
  {
   "cell_type": "code",
   "execution_count": 13,
   "id": "2ae39784",
   "metadata": {},
   "outputs": [
    {
     "data": {
      "text/html": [
       "<div>\n",
       "<style scoped>\n",
       "    .dataframe tbody tr th:only-of-type {\n",
       "        vertical-align: middle;\n",
       "    }\n",
       "\n",
       "    .dataframe tbody tr th {\n",
       "        vertical-align: top;\n",
       "    }\n",
       "\n",
       "    .dataframe thead th {\n",
       "        text-align: right;\n",
       "    }\n",
       "</style>\n",
       "<table border=\"1\" class=\"dataframe\">\n",
       "  <thead>\n",
       "    <tr style=\"text-align: right;\">\n",
       "      <th></th>\n",
       "      <th>Pitch Sequence</th>\n",
       "      <th>Pitcher ID</th>\n",
       "      <th>At-Bat Outcome</th>\n",
       "    </tr>\n",
       "  </thead>\n",
       "  <tbody>\n",
       "    <tr>\n",
       "      <th>0</th>\n",
       "      <td>SI</td>\n",
       "      <td>621107</td>\n",
       "      <td>field_error</td>\n",
       "    </tr>\n",
       "    <tr>\n",
       "      <th>1</th>\n",
       "      <td>SI,CB,FC,SI,CB,SI,FF</td>\n",
       "      <td>621107</td>\n",
       "      <td>single</td>\n",
       "    </tr>\n",
       "    <tr>\n",
       "      <th>2</th>\n",
       "      <td>ST,ST,SI,SI,ST,ST</td>\n",
       "      <td>676534</td>\n",
       "      <td>walk</td>\n",
       "    </tr>\n",
       "    <tr>\n",
       "      <th>3</th>\n",
       "      <td>SI,ST,SI,ST,SI</td>\n",
       "      <td>687330</td>\n",
       "      <td>grounded_into_double_play</td>\n",
       "    </tr>\n",
       "    <tr>\n",
       "      <th>4</th>\n",
       "      <td>FF,FF,FF,SL,FF,SL</td>\n",
       "      <td>477132</td>\n",
       "      <td>strikeout</td>\n",
       "    </tr>\n",
       "  </tbody>\n",
       "</table>\n",
       "</div>"
      ],
      "text/plain": [
       "         Pitch Sequence  Pitcher ID             At-Bat Outcome\n",
       "0                    SI      621107                field_error\n",
       "1  SI,CB,FC,SI,CB,SI,FF      621107                     single\n",
       "2     ST,ST,SI,SI,ST,ST      676534                       walk\n",
       "3        SI,ST,SI,ST,SI      687330  grounded_into_double_play\n",
       "4     FF,FF,FF,SL,FF,SL      477132                  strikeout"
      ]
     },
     "execution_count": 13,
     "metadata": {},
     "output_type": "execute_result"
    }
   ],
   "source": [
    "result_df.head()"
   ]
  },
  {
   "cell_type": "code",
   "execution_count": 14,
   "id": "b9bbcd21",
   "metadata": {},
   "outputs": [],
   "source": [
    "result_df.to_csv('../../data/sequence_data_opt.csv', index=False)"
   ]
  },
  {
   "cell_type": "code",
   "execution_count": null,
   "id": "ded84fbd",
   "metadata": {},
   "outputs": [],
   "source": []
  }
 ],
 "metadata": {
  "kernelspec": {
   "display_name": "Python 3 (ipykernel)",
   "language": "python",
   "name": "python3"
  },
  "language_info": {
   "codemirror_mode": {
    "name": "ipython",
    "version": 3
   },
   "file_extension": ".py",
   "mimetype": "text/x-python",
   "name": "python",
   "nbconvert_exporter": "python",
   "pygments_lexer": "ipython3",
   "version": "3.8.12"
  }
 },
 "nbformat": 4,
 "nbformat_minor": 5
}
