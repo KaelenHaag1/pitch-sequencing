{
 "cells": [
  {
   "cell_type": "code",
   "execution_count": 1,
   "id": "bd6be3a8",
   "metadata": {},
   "outputs": [],
   "source": [
    "import pandas as pd\n",
    "import numpy as np\n",
    "import torch\n",
    "import torch.nn as nn\n",
    "import torch.nn.functional as F\n",
    "\n",
    "from torch.utils.data import Dataset, DataLoader\n",
    "from sklearn.model_selection import train_test_split\n",
    "from collections import defaultdict"
   ]
  },
  {
   "cell_type": "code",
   "execution_count": 16,
   "id": "adbc74c8",
   "metadata": {},
   "outputs": [],
   "source": [
    "class PitchDataPreprocessor:\n",
    "    def __init__(self, df):\n",
    "        self.df = df\n",
    "        self.pitch_to_idx = {'<pad>': 0, '<start>': 1}\n",
    "        self.idx_to_pitch = {0: '<pad>', 1: '<start>'}\n",
    "        self.pitcher_arsenals = defaultdict(set)\n",
    "        self.max_seq_length = 0\n",
    "\n",
    "    def preprocess(self):\n",
    "        # Create pitch type vocabulary\n",
    "        unique_pitches = set()\n",
    "        for seq in self.df['Pitch Sequence']:\n",
    "            unique_pitches.update(seq.split(','))\n",
    "        \n",
    "        for pitch in unique_pitches:\n",
    "            if pitch not in self.pitch_to_idx:\n",
    "                idx = len(self.pitch_to_idx)\n",
    "                self.pitch_to_idx[pitch] = idx\n",
    "                self.idx_to_pitch[idx] = pitch\n",
    "\n",
    "        # Create pitcher arsenals\n",
    "        for _, row in self.df.iterrows():\n",
    "            pitcher_id = row['Pitcher ID']\n",
    "            pitches = row['Pitch Sequence'].split(',')\n",
    "            self.pitcher_arsenals[pitcher_id].update(pitches)\n",
    "\n",
    "        # Find max sequence length (including <start> token)\n",
    "        self.max_seq_length = max(len(seq.split(',')) for seq in self.df['Pitch Sequence']) + 1\n",
    "\n",
    "    def encode_sequence(self, sequence):\n",
    "        return [1] + [self.pitch_to_idx[pitch] for pitch in sequence.split(',')]\n",
    "\n",
    "    def pad_sequence(self, sequence):\n",
    "        padded = sequence + [0] * (self.max_seq_length - len(sequence))\n",
    "        return padded[:self.max_seq_length]\n",
    "\n",
    "    def get_pitcher_arsenal_mask(self, pitcher_id):\n",
    "        arsenal = self.pitcher_arsenals[pitcher_id]\n",
    "        mask = [1 if pitch in arsenal or idx < 2 else 0 for idx, pitch in self.idx_to_pitch.items()]\n",
    "        return torch.tensor(mask, dtype=torch.float)"
   ]
  },
  {
   "cell_type": "code",
   "execution_count": 17,
   "id": "35436d1d",
   "metadata": {},
   "outputs": [],
   "source": [
    "class PitchSequenceDataset(Dataset):\n",
    "    def __init__(self, df, preprocessor):\n",
    "        self.df = df\n",
    "        self.preprocessor = preprocessor\n",
    "\n",
    "    def __len__(self):\n",
    "        return len(self.df)\n",
    "\n",
    "    def __getitem__(self, idx):\n",
    "        row = self.df.iloc[idx]\n",
    "        sequence = self.preprocessor.encode_sequence(row['Pitch Sequence'])\n",
    "        \n",
    "        input_seq = torch.tensor(sequence[:-1], dtype=torch.long)\n",
    "        target = torch.tensor(sequence[-1], dtype=torch.long)\n",
    "        \n",
    "        padded_input = self.preprocessor.pad_sequence(input_seq.tolist())\n",
    "        input_seq = torch.tensor(padded_input, dtype=torch.long)\n",
    "        \n",
    "        pitcher_id = row['Pitcher ID']\n",
    "        arsenal_mask = self.preprocessor.get_pitcher_arsenal_mask(pitcher_id)\n",
    "\n",
    "        return input_seq, target, arsenal_mask"
   ]
  },
  {
   "cell_type": "code",
   "execution_count": 18,
   "id": "91a7def1",
   "metadata": {},
   "outputs": [],
   "source": [
    "class PitchTransformer(nn.Module):\n",
    "    def __init__(self, vocab_size, d_model, nhead, num_layers, dropout=0.1):\n",
    "        super(PitchTransformer, self).__init__()\n",
    "        self.embedding = nn.Embedding(vocab_size, d_model)\n",
    "        self.pos_encoder = nn.Embedding(1000, d_model)  # Assuming max sequence length < 1000\n",
    "        self.transformer = nn.TransformerEncoder(\n",
    "            nn.TransformerEncoderLayer(d_model, nhead, dropout=dropout),\n",
    "            num_layers\n",
    "        )\n",
    "        self.fc = nn.Linear(d_model, vocab_size)\n",
    "\n",
    "    def forward(self, src, src_mask=None):\n",
    "        src = self.embedding(src)\n",
    "        pos = torch.arange(0, src.size(1), dtype=torch.long, device=src.device).unsqueeze(0)\n",
    "        src = src + self.pos_encoder(pos)\n",
    "        output = self.transformer(src, src_key_padding_mask=src_mask)\n",
    "        return self.fc(output[:, -1, :])  # Only use the last position for prediction"
   ]
  },
  {
   "cell_type": "code",
   "execution_count": 32,
   "id": "627ca34a",
   "metadata": {},
   "outputs": [],
   "source": [
    "class PitchPredictor:\n",
    "    def __init__(self, model, preprocessor):\n",
    "        self.model = model\n",
    "        self.preprocessor = preprocessor\n",
    "\n",
    "    def predict_next_pitch(self, sequence, pitcher_id):\n",
    "        encoded_seq = self.preprocessor.encode_sequence(sequence)\n",
    "        padded_seq = self.preprocessor.pad_sequence(encoded_seq)\n",
    "        input_seq = torch.tensor(padded_seq, dtype=torch.long).unsqueeze(0)\n",
    "        arsenal_mask = self.preprocessor.get_pitcher_arsenal_mask(pitcher_id)\n",
    "\n",
    "        self.model.eval()  # Ensure the model is in evaluation mode\n",
    "        with torch.no_grad():\n",
    "            logits = self.model(input_seq)\n",
    "            # The output shape should be [1, vocab_size]\n",
    "            logits = logits.squeeze(0)  # Remove batch dimension if present\n",
    "            if logits.dim() > 1:\n",
    "                logits = logits[-1]  # Take the last prediction if multiple outputs\n",
    "            logits[~arsenal_mask.bool()] = float('-inf')\n",
    "            probabilities = torch.softmax(logits, dim=0)\n",
    "            predicted_idx = torch.argmax(probabilities).item()\n",
    "\n",
    "        return self.preprocessor.idx_to_pitch[predicted_idx]"
   ]
  },
  {
   "cell_type": "code",
   "execution_count": 20,
   "id": "07421902",
   "metadata": {},
   "outputs": [],
   "source": [
    "def train_model(model, train_loader, val_loader, num_epochs, lr, device):\n",
    "    model.to(device)\n",
    "    criterion = nn.CrossEntropyLoss()\n",
    "    optimizer = torch.optim.Adam(model.parameters(), lr=lr)\n",
    "\n",
    "    for epoch in range(num_epochs):\n",
    "        model.train()\n",
    "        train_loss = 0\n",
    "        for batch in train_loader:\n",
    "            # Don't use arsenal mask for now.\n",
    "            input_seq, target, _ = [b.to(device) for b in batch]\n",
    "            optimizer.zero_grad()\n",
    "            output = model(input_seq)\n",
    "            loss = criterion(output, target)\n",
    "            loss.backward()\n",
    "            optimizer.step()\n",
    "            train_loss += loss.item()\n",
    "\n",
    "        model.eval()\n",
    "        val_loss = 0\n",
    "        with torch.no_grad():\n",
    "            for batch in val_loader:\n",
    "                # Don't use arsenal mask for now.\n",
    "                input_seq, target, _ = [b.to(device) for b in batch]\n",
    "                output = model(input_seq)\n",
    "                loss = criterion(output, target)\n",
    "                val_loss += loss.item()\n",
    "\n",
    "        print(f\"Epoch {epoch+1}/{num_epochs}, Train Loss: {train_loss/len(train_loader):.4f}, Val Loss: {val_loss/len(val_loader):.4f}\")\n",
    "\n",
    "    return model"
   ]
  },
  {
   "cell_type": "code",
   "execution_count": 39,
   "id": "39a3c77d",
   "metadata": {},
   "outputs": [],
   "source": [
    "df = pd.read_csv('../../data/sequence_data_opt.csv')"
   ]
  },
  {
   "cell_type": "code",
   "execution_count": 40,
   "id": "b8497107",
   "metadata": {},
   "outputs": [
    {
     "data": {
      "text/html": [
       "<div>\n",
       "<style scoped>\n",
       "    .dataframe tbody tr th:only-of-type {\n",
       "        vertical-align: middle;\n",
       "    }\n",
       "\n",
       "    .dataframe tbody tr th {\n",
       "        vertical-align: top;\n",
       "    }\n",
       "\n",
       "    .dataframe thead th {\n",
       "        text-align: right;\n",
       "    }\n",
       "</style>\n",
       "<table border=\"1\" class=\"dataframe\">\n",
       "  <thead>\n",
       "    <tr style=\"text-align: right;\">\n",
       "      <th></th>\n",
       "      <th>Pitch Sequence</th>\n",
       "      <th>Pitcher ID</th>\n",
       "      <th>At-Bat Outcome</th>\n",
       "    </tr>\n",
       "  </thead>\n",
       "  <tbody>\n",
       "    <tr>\n",
       "      <th>0</th>\n",
       "      <td>SI</td>\n",
       "      <td>621107</td>\n",
       "      <td>field_error</td>\n",
       "    </tr>\n",
       "    <tr>\n",
       "      <th>1</th>\n",
       "      <td>SI,CB,FC,SI,CB,SI,FF</td>\n",
       "      <td>621107</td>\n",
       "      <td>single</td>\n",
       "    </tr>\n",
       "    <tr>\n",
       "      <th>2</th>\n",
       "      <td>ST,ST,SI,SI,ST,ST</td>\n",
       "      <td>676534</td>\n",
       "      <td>walk</td>\n",
       "    </tr>\n",
       "    <tr>\n",
       "      <th>3</th>\n",
       "      <td>SI,ST,SI,ST,SI</td>\n",
       "      <td>687330</td>\n",
       "      <td>grounded_into_double_play</td>\n",
       "    </tr>\n",
       "    <tr>\n",
       "      <th>4</th>\n",
       "      <td>FF,FF,FF,SL,FF,SL</td>\n",
       "      <td>477132</td>\n",
       "      <td>strikeout</td>\n",
       "    </tr>\n",
       "    <tr>\n",
       "      <th>5</th>\n",
       "      <td>FF,FF,SL,FF,SL,SL</td>\n",
       "      <td>477132</td>\n",
       "      <td>strikeout</td>\n",
       "    </tr>\n",
       "    <tr>\n",
       "      <th>6</th>\n",
       "      <td>FF,SL,CH,FF,CH,SL,FF,CH,CH,FF</td>\n",
       "      <td>656578</td>\n",
       "      <td>field_error</td>\n",
       "    </tr>\n",
       "    <tr>\n",
       "      <th>7</th>\n",
       "      <td>FC,CH,CH,CH</td>\n",
       "      <td>608379</td>\n",
       "      <td>double_play</td>\n",
       "    </tr>\n",
       "    <tr>\n",
       "      <th>8</th>\n",
       "      <td>FC,CH,FC</td>\n",
       "      <td>608379</td>\n",
       "      <td>field_out</td>\n",
       "    </tr>\n",
       "    <tr>\n",
       "      <th>9</th>\n",
       "      <td>FC,FC,CH</td>\n",
       "      <td>608379</td>\n",
       "      <td>double</td>\n",
       "    </tr>\n",
       "  </tbody>\n",
       "</table>\n",
       "</div>"
      ],
      "text/plain": [
       "                  Pitch Sequence  Pitcher ID             At-Bat Outcome\n",
       "0                             SI      621107                field_error\n",
       "1           SI,CB,FC,SI,CB,SI,FF      621107                     single\n",
       "2              ST,ST,SI,SI,ST,ST      676534                       walk\n",
       "3                 SI,ST,SI,ST,SI      687330  grounded_into_double_play\n",
       "4              FF,FF,FF,SL,FF,SL      477132                  strikeout\n",
       "5              FF,FF,SL,FF,SL,SL      477132                  strikeout\n",
       "6  FF,SL,CH,FF,CH,SL,FF,CH,CH,FF      656578                field_error\n",
       "7                    FC,CH,CH,CH      608379                double_play\n",
       "8                       FC,CH,FC      608379                  field_out\n",
       "9                       FC,FC,CH      608379                     double"
      ]
     },
     "execution_count": 40,
     "metadata": {},
     "output_type": "execute_result"
    }
   ],
   "source": [
    "df.head(10)"
   ]
  },
  {
   "cell_type": "code",
   "execution_count": 41,
   "id": "d59932ec",
   "metadata": {},
   "outputs": [],
   "source": [
    "# Preprocess data\n",
    "preprocessor = PitchDataPreprocessor(df)\n",
    "preprocessor.preprocess()"
   ]
  },
  {
   "cell_type": "code",
   "execution_count": 42,
   "id": "50dfd9bd",
   "metadata": {},
   "outputs": [],
   "source": [
    "train_df, test_df = train_test_split(df, test_size=0.2, random_state=42)"
   ]
  },
  {
   "cell_type": "code",
   "execution_count": 43,
   "id": "cc484449",
   "metadata": {},
   "outputs": [
    {
     "data": {
      "text/plain": [
       "(148430, 3)"
      ]
     },
     "execution_count": 43,
     "metadata": {},
     "output_type": "execute_result"
    }
   ],
   "source": [
    "train_df.shape"
   ]
  },
  {
   "cell_type": "code",
   "execution_count": 44,
   "id": "33002732",
   "metadata": {},
   "outputs": [
    {
     "data": {
      "text/html": [
       "<div>\n",
       "<style scoped>\n",
       "    .dataframe tbody tr th:only-of-type {\n",
       "        vertical-align: middle;\n",
       "    }\n",
       "\n",
       "    .dataframe tbody tr th {\n",
       "        vertical-align: top;\n",
       "    }\n",
       "\n",
       "    .dataframe thead th {\n",
       "        text-align: right;\n",
       "    }\n",
       "</style>\n",
       "<table border=\"1\" class=\"dataframe\">\n",
       "  <thead>\n",
       "    <tr style=\"text-align: right;\">\n",
       "      <th></th>\n",
       "      <th>Pitch Sequence</th>\n",
       "      <th>Pitcher ID</th>\n",
       "      <th>At-Bat Outcome</th>\n",
       "    </tr>\n",
       "  </thead>\n",
       "  <tbody>\n",
       "    <tr>\n",
       "      <th>101708</th>\n",
       "      <td>FF,SL,SL,FF,SL</td>\n",
       "      <td>600917</td>\n",
       "      <td>strikeout</td>\n",
       "    </tr>\n",
       "    <tr>\n",
       "      <th>88766</th>\n",
       "      <td>SL,FF,CB,CB</td>\n",
       "      <td>670102</td>\n",
       "      <td>field_out</td>\n",
       "    </tr>\n",
       "    <tr>\n",
       "      <th>177432</th>\n",
       "      <td>SL</td>\n",
       "      <td>623352</td>\n",
       "      <td>force_out</td>\n",
       "    </tr>\n",
       "    <tr>\n",
       "      <th>146963</th>\n",
       "      <td>FF,FS,FS</td>\n",
       "      <td>592332</td>\n",
       "      <td>field_out</td>\n",
       "    </tr>\n",
       "    <tr>\n",
       "      <th>41087</th>\n",
       "      <td>SL,FF,SL,FF,SL,CB,FF,SL</td>\n",
       "      <td>674072</td>\n",
       "      <td>field_out</td>\n",
       "    </tr>\n",
       "  </tbody>\n",
       "</table>\n",
       "</div>"
      ],
      "text/plain": [
       "                 Pitch Sequence  Pitcher ID At-Bat Outcome\n",
       "101708           FF,SL,SL,FF,SL      600917      strikeout\n",
       "88766               SL,FF,CB,CB      670102      field_out\n",
       "177432                       SL      623352      force_out\n",
       "146963                 FF,FS,FS      592332      field_out\n",
       "41087   SL,FF,SL,FF,SL,CB,FF,SL      674072      field_out"
      ]
     },
     "execution_count": 44,
     "metadata": {},
     "output_type": "execute_result"
    }
   ],
   "source": [
    "train_df.head()"
   ]
  },
  {
   "cell_type": "code",
   "execution_count": 45,
   "id": "65454f4d",
   "metadata": {},
   "outputs": [],
   "source": [
    "# Create datasets and dataloaders\n",
    "train_dataset = PitchSequenceDataset(train_df.head(1000), preprocessor)\n",
    "test_dataset = PitchSequenceDataset(test_df.head(1000), preprocessor)\n",
    "train_loader = DataLoader(train_dataset, batch_size=32, shuffle=True)\n",
    "test_loader = DataLoader(test_dataset, batch_size=32)"
   ]
  },
  {
   "cell_type": "code",
   "execution_count": 46,
   "id": "9f634cfc",
   "metadata": {},
   "outputs": [],
   "source": [
    "# Initialize model\n",
    "vocab_size = len(preprocessor.pitch_to_idx)\n",
    "model = PitchTransformer(vocab_size, d_model=64, nhead=4, num_layers=2)"
   ]
  },
  {
   "cell_type": "code",
   "execution_count": 47,
   "id": "6c40f174",
   "metadata": {},
   "outputs": [
    {
     "name": "stdout",
     "output_type": "stream",
     "text": [
      "Epoch 1/10, Train Loss: 1.5602, Val Loss: 1.4849\n",
      "Epoch 2/10, Train Loss: 1.5114, Val Loss: 1.4756\n",
      "Epoch 3/10, Train Loss: 1.4982, Val Loss: 1.5178\n",
      "Epoch 4/10, Train Loss: 1.5100, Val Loss: 1.4950\n",
      "Epoch 5/10, Train Loss: 1.4947, Val Loss: 1.4845\n",
      "Epoch 6/10, Train Loss: 1.4963, Val Loss: 1.4702\n",
      "Epoch 7/10, Train Loss: 1.4946, Val Loss: 1.4828\n",
      "Epoch 8/10, Train Loss: 1.4861, Val Loss: 1.4764\n",
      "Epoch 9/10, Train Loss: 1.4907, Val Loss: 1.4719\n",
      "Epoch 10/10, Train Loss: 1.4915, Val Loss: 1.4740\n"
     ]
    }
   ],
   "source": [
    "# Train model\n",
    "#device = torch.device(\"cuda\" if torch.cuda.is_available() else \"cpu\")\n",
    "trained_model = train_model(model, train_loader, test_loader, num_epochs=10, lr=0.001, device=\"cpu\")"
   ]
  },
  {
   "cell_type": "code",
   "execution_count": 48,
   "id": "8a4fa74f",
   "metadata": {},
   "outputs": [],
   "source": [
    "predictor = PitchPredictor(trained_model, preprocessor)"
   ]
  },
  {
   "cell_type": "code",
   "execution_count": 62,
   "id": "55f17b1d",
   "metadata": {},
   "outputs": [
    {
     "name": "stdout",
     "output_type": "stream",
     "text": [
      "Predicted next pitch: SI\n"
     ]
    }
   ],
   "source": [
    "# Example prediction\n",
    "sequence = \"SL,FF\"\n",
    "pitcher_id = 623352\n",
    "next_pitch = predictor.predict_next_pitch(sequence, pitcher_id)\n",
    "print(f\"Predicted next pitch: {next_pitch}\")"
   ]
  },
  {
   "cell_type": "code",
   "execution_count": null,
   "id": "7c9f8e1c",
   "metadata": {},
   "outputs": [],
   "source": []
  },
  {
   "cell_type": "code",
   "execution_count": null,
   "id": "06c6c296",
   "metadata": {},
   "outputs": [],
   "source": []
  },
  {
   "cell_type": "code",
   "execution_count": null,
   "id": "7baca9f1",
   "metadata": {},
   "outputs": [],
   "source": []
  }
 ],
 "metadata": {
  "kernelspec": {
   "display_name": "Python 3 (ipykernel)",
   "language": "python",
   "name": "python3"
  },
  "language_info": {
   "codemirror_mode": {
    "name": "ipython",
    "version": 3
   },
   "file_extension": ".py",
   "mimetype": "text/x-python",
   "name": "python",
   "nbconvert_exporter": "python",
   "pygments_lexer": "ipython3",
   "version": "3.8.12"
  }
 },
 "nbformat": 4,
 "nbformat_minor": 5
}
