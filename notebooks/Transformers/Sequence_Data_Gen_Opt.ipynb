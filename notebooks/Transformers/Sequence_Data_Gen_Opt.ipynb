{
 "cells": [
  {
   "cell_type": "code",
   "execution_count": 6,
   "id": "d8827069",
   "metadata": {},
   "outputs": [],
   "source": [
    "import pandas as pd\n",
    "from pybaseball import statcast\n",
    "pd.set_option('display.max_columns', 500)"
   ]
  },
  {
   "cell_type": "code",
   "execution_count": 2,
   "id": "f2c4324c",
   "metadata": {},
   "outputs": [],
   "source": [
    "def fetch_statcast_data(start_date, end_date):\n",
    "    # Fetch data from Statcast\n",
    "    data = statcast(start_date, end_date)\n",
    "    return data"
   ]
  },
  {
   "cell_type": "code",
   "execution_count": 34,
   "id": "da92e603",
   "metadata": {},
   "outputs": [],
   "source": [
    "def process_data(data):\n",
    "    # Filter necessary columns\n",
    "    data = data[['game_date', 'batter', 'pitcher', 'pitch_type', 'events', 'at_bat_number', 'pitch_number']]\n",
    "    \n",
    "    # Drop rows where pitch_type is NaN (happens occasionally in real datasets)\n",
    "    data = data.dropna(subset=['pitch_type'])\n",
    "\n",
    "    # Group data by game, batter, pitcher, and at_bat_number, then sort by pitch_number\n",
    "    # Use apply to ensure the group maintains DataFrame format after sorting\n",
    "    grouped = data.groupby(['game_date', 'batter', 'pitcher', 'at_bat_number']).apply(lambda x: x.sort_values('pitch_number')).reset_index(drop=True)\n",
    "\n",
    "    # We can't directly iterate with multiple unpacks if using apply without specifying 'group_keys=False' in the groupby\n",
    "    # However, by resetting the index, we revert to a single DataFrame and thus lose the direct tuple unpacking ability\n",
    "    # Create a DataFrame to store the sequence, pitcher ID, and at-bat outcome\n",
    "    at_bats = []\n",
    "    for _, group in grouped.groupby(['game_date', 'batter', 'pitcher', 'at_bat_number']):\n",
    "        sequence = ','.join(group['pitch_type'].tolist())\n",
    "        outcome = group['events'].iloc[-1] if not pd.isna(group['events'].iloc[-1]) else 'No event'\n",
    "        pitcher_id = group['pitcher'].iloc[0]\n",
    "        at_bats.append([sequence, pitcher_id, outcome])\n",
    "\n",
    "    # Convert list to DataFrame\n",
    "    result_df = pd.DataFrame(at_bats, columns=['Pitch Sequence', 'Pitcher ID', 'At-Bat Outcome'])\n",
    "    return result_df\n"
   ]
  },
  {
   "cell_type": "code",
   "execution_count": 22,
   "id": "f035ad23",
   "metadata": {},
   "outputs": [],
   "source": [
    "def consolidate_pitch_types(data):\n",
    "    # Mapping dictionary for pitch types\n",
    "    pitch_type_map = {\n",
    "        'CH': 'CH',  # Changeup\n",
    "        'CU': 'CB',  # Curveball\n",
    "        'FC': 'FC',  # Cutter\n",
    "        'EP': 'CH',  # Eephus\n",
    "        'FO': 'CH',  # Forkball\n",
    "        'FF': 'FF',  # Four-Seam Fastball\n",
    "        'KN': 'KN',  # Knuckleball\n",
    "        'KC': 'CB',  # Knuckle-curve\n",
    "        'SC': 'CH',  # Screwball\n",
    "        'SI': 'SI',  # Sinker\n",
    "        'SL': 'SL',  # Slider\n",
    "        'SV': 'CB',  # Slurve\n",
    "        'FS': 'FS',  # Splitter\n",
    "        'ST': 'ST',  # Sweeper\n",
    "        'FA': 'FF',  # Fastball\n",
    "        'PO': 'PO',  # Pitch out\n",
    "        'CS': 'CB'   # Slow Curveball\n",
    "    }\n",
    "    \n",
    "    # Apply the mapping to the pitch_type column\n",
    "    data['pitch_type'] = data['pitch_type'].map(pitch_type_map).fillna(data['pitch_type'])\n",
    "    return data"
   ]
  },
  {
   "cell_type": "code",
   "execution_count": 23,
   "id": "842712d2",
   "metadata": {},
   "outputs": [
    {
     "name": "stdout",
     "output_type": "stream",
     "text": [
      "This is a large query, it may take a moment to complete\n"
     ]
    },
    {
     "name": "stderr",
     "output_type": "stream",
     "text": [
      "100%|██████████████████████████████████████████████████████████████████████████████████| 30/30 [00:10<00:00,  2.89it/s]\n"
     ]
    }
   ],
   "source": [
    "start_date = '2023-04-01'\n",
    "end_date = '2023-04-30'\n",
    "data = fetch_statcast_data(start_date, end_date)"
   ]
  },
  {
   "cell_type": "code",
   "execution_count": 37,
   "id": "3097fe48",
   "metadata": {},
   "outputs": [
    {
     "data": {
      "text/plain": [
       "Index(['pitch_type', 'game_date', 'release_speed', 'release_pos_x',\n",
       "       'release_pos_z', 'player_name', 'batter', 'pitcher', 'events',\n",
       "       'description', 'spin_dir', 'spin_rate_deprecated',\n",
       "       'break_angle_deprecated', 'break_length_deprecated', 'zone', 'des',\n",
       "       'game_type', 'stand', 'p_throws', 'home_team', 'away_team', 'type',\n",
       "       'hit_location', 'bb_type', 'balls', 'strikes', 'game_year', 'pfx_x',\n",
       "       'pfx_z', 'plate_x', 'plate_z', 'on_3b', 'on_2b', 'on_1b',\n",
       "       'outs_when_up', 'inning', 'inning_topbot', 'hc_x', 'hc_y',\n",
       "       'tfs_deprecated', 'tfs_zulu_deprecated', 'fielder_2', 'umpire', 'sv_id',\n",
       "       'vx0', 'vy0', 'vz0', 'ax', 'ay', 'az', 'sz_top', 'sz_bot',\n",
       "       'hit_distance_sc', 'launch_speed', 'launch_angle', 'effective_speed',\n",
       "       'release_spin_rate', 'release_extension', 'game_pk', 'pitcher.1',\n",
       "       'fielder_2.1', 'fielder_3', 'fielder_4', 'fielder_5', 'fielder_6',\n",
       "       'fielder_7', 'fielder_8', 'fielder_9', 'release_pos_y',\n",
       "       'estimated_ba_using_speedangle', 'estimated_woba_using_speedangle',\n",
       "       'woba_value', 'woba_denom', 'babip_value', 'iso_value',\n",
       "       'launch_speed_angle', 'at_bat_number', 'pitch_number', 'pitch_name',\n",
       "       'home_score', 'away_score', 'bat_score', 'fld_score', 'post_away_score',\n",
       "       'post_home_score', 'post_bat_score', 'post_fld_score',\n",
       "       'if_fielding_alignment', 'of_fielding_alignment', 'spin_axis',\n",
       "       'delta_home_win_exp', 'delta_run_exp', 'bat_speed', 'swing_length'],\n",
       "      dtype='object')"
      ]
     },
     "execution_count": 37,
     "metadata": {},
     "output_type": "execute_result"
    }
   ],
   "source": [
    "data.columns"
   ]
  },
  {
   "cell_type": "code",
   "execution_count": 25,
   "id": "b864fde6",
   "metadata": {},
   "outputs": [],
   "source": [
    "data_pt = consolidate_pitch_types(data)"
   ]
  },
  {
   "cell_type": "code",
   "execution_count": 43,
   "id": "fc989f25",
   "metadata": {},
   "outputs": [
    {
     "data": {
      "text/html": [
       "<div>\n",
       "<style scoped>\n",
       "    .dataframe tbody tr th:only-of-type {\n",
       "        vertical-align: middle;\n",
       "    }\n",
       "\n",
       "    .dataframe tbody tr th {\n",
       "        vertical-align: top;\n",
       "    }\n",
       "\n",
       "    .dataframe thead th {\n",
       "        text-align: right;\n",
       "    }\n",
       "</style>\n",
       "<table border=\"1\" class=\"dataframe\">\n",
       "  <thead>\n",
       "    <tr style=\"text-align: right;\">\n",
       "      <th></th>\n",
       "      <th>game_date</th>\n",
       "      <th>batter</th>\n",
       "      <th>pitcher</th>\n",
       "      <th>pitch_type</th>\n",
       "      <th>events</th>\n",
       "      <th>at_bat_number</th>\n",
       "      <th>pitch_number</th>\n",
       "      <th>player_name</th>\n",
       "    </tr>\n",
       "  </thead>\n",
       "  <tbody>\n",
       "    <tr>\n",
       "      <th>2430</th>\n",
       "      <td>2023-04-30</td>\n",
       "      <td>665926</td>\n",
       "      <td>657514</td>\n",
       "      <td>SI</td>\n",
       "      <td>field_out</td>\n",
       "      <td>72</td>\n",
       "      <td>5</td>\n",
       "      <td>Bernardino, Brennan</td>\n",
       "    </tr>\n",
       "    <tr>\n",
       "      <th>2537</th>\n",
       "      <td>2023-04-30</td>\n",
       "      <td>665926</td>\n",
       "      <td>657514</td>\n",
       "      <td>SI</td>\n",
       "      <td>NaN</td>\n",
       "      <td>72</td>\n",
       "      <td>4</td>\n",
       "      <td>Bernardino, Brennan</td>\n",
       "    </tr>\n",
       "    <tr>\n",
       "      <th>2630</th>\n",
       "      <td>2023-04-30</td>\n",
       "      <td>665926</td>\n",
       "      <td>657514</td>\n",
       "      <td>SI</td>\n",
       "      <td>NaN</td>\n",
       "      <td>72</td>\n",
       "      <td>3</td>\n",
       "      <td>Bernardino, Brennan</td>\n",
       "    </tr>\n",
       "    <tr>\n",
       "      <th>2669</th>\n",
       "      <td>2023-04-30</td>\n",
       "      <td>665926</td>\n",
       "      <td>657514</td>\n",
       "      <td>SI</td>\n",
       "      <td>NaN</td>\n",
       "      <td>72</td>\n",
       "      <td>2</td>\n",
       "      <td>Bernardino, Brennan</td>\n",
       "    </tr>\n",
       "    <tr>\n",
       "      <th>2808</th>\n",
       "      <td>2023-04-30</td>\n",
       "      <td>665926</td>\n",
       "      <td>657514</td>\n",
       "      <td>SI</td>\n",
       "      <td>NaN</td>\n",
       "      <td>72</td>\n",
       "      <td>1</td>\n",
       "      <td>Bernardino, Brennan</td>\n",
       "    </tr>\n",
       "    <tr>\n",
       "      <th>2910</th>\n",
       "      <td>2023-04-30</td>\n",
       "      <td>660757</td>\n",
       "      <td>657514</td>\n",
       "      <td>SI</td>\n",
       "      <td>field_out</td>\n",
       "      <td>71</td>\n",
       "      <td>6</td>\n",
       "      <td>Bernardino, Brennan</td>\n",
       "    </tr>\n",
       "    <tr>\n",
       "      <th>2997</th>\n",
       "      <td>2023-04-30</td>\n",
       "      <td>660757</td>\n",
       "      <td>657514</td>\n",
       "      <td>SI</td>\n",
       "      <td>NaN</td>\n",
       "      <td>71</td>\n",
       "      <td>5</td>\n",
       "      <td>Bernardino, Brennan</td>\n",
       "    </tr>\n",
       "    <tr>\n",
       "      <th>3149</th>\n",
       "      <td>2023-04-30</td>\n",
       "      <td>660757</td>\n",
       "      <td>657514</td>\n",
       "      <td>SI</td>\n",
       "      <td>NaN</td>\n",
       "      <td>71</td>\n",
       "      <td>4</td>\n",
       "      <td>Bernardino, Brennan</td>\n",
       "    </tr>\n",
       "    <tr>\n",
       "      <th>3287</th>\n",
       "      <td>2023-04-30</td>\n",
       "      <td>660757</td>\n",
       "      <td>657514</td>\n",
       "      <td>SI</td>\n",
       "      <td>NaN</td>\n",
       "      <td>71</td>\n",
       "      <td>3</td>\n",
       "      <td>Bernardino, Brennan</td>\n",
       "    </tr>\n",
       "    <tr>\n",
       "      <th>3413</th>\n",
       "      <td>2023-04-30</td>\n",
       "      <td>660757</td>\n",
       "      <td>657514</td>\n",
       "      <td>SI</td>\n",
       "      <td>NaN</td>\n",
       "      <td>71</td>\n",
       "      <td>2</td>\n",
       "      <td>Bernardino, Brennan</td>\n",
       "    </tr>\n",
       "    <tr>\n",
       "      <th>3456</th>\n",
       "      <td>2023-04-30</td>\n",
       "      <td>660757</td>\n",
       "      <td>657514</td>\n",
       "      <td>SI</td>\n",
       "      <td>NaN</td>\n",
       "      <td>71</td>\n",
       "      <td>1</td>\n",
       "      <td>Bernardino, Brennan</td>\n",
       "    </tr>\n",
       "  </tbody>\n",
       "</table>\n",
       "</div>"
      ],
      "text/plain": [
       "      game_date  batter  pitcher pitch_type     events  at_bat_number  \\\n",
       "2430 2023-04-30  665926   657514         SI  field_out             72   \n",
       "2537 2023-04-30  665926   657514         SI        NaN             72   \n",
       "2630 2023-04-30  665926   657514         SI        NaN             72   \n",
       "2669 2023-04-30  665926   657514         SI        NaN             72   \n",
       "2808 2023-04-30  665926   657514         SI        NaN             72   \n",
       "2910 2023-04-30  660757   657514         SI  field_out             71   \n",
       "2997 2023-04-30  660757   657514         SI        NaN             71   \n",
       "3149 2023-04-30  660757   657514         SI        NaN             71   \n",
       "3287 2023-04-30  660757   657514         SI        NaN             71   \n",
       "3413 2023-04-30  660757   657514         SI        NaN             71   \n",
       "3456 2023-04-30  660757   657514         SI        NaN             71   \n",
       "\n",
       "      pitch_number          player_name  \n",
       "2430             5  Bernardino, Brennan  \n",
       "2537             4  Bernardino, Brennan  \n",
       "2630             3  Bernardino, Brennan  \n",
       "2669             2  Bernardino, Brennan  \n",
       "2808             1  Bernardino, Brennan  \n",
       "2910             6  Bernardino, Brennan  \n",
       "2997             5  Bernardino, Brennan  \n",
       "3149             4  Bernardino, Brennan  \n",
       "3287             3  Bernardino, Brennan  \n",
       "3413             2  Bernardino, Brennan  \n",
       "3456             1  Bernardino, Brennan  "
      ]
     },
     "execution_count": 43,
     "metadata": {},
     "output_type": "execute_result"
    }
   ],
   "source": [
    "data[['game_date', 'batter', 'pitcher', 'pitch_type', 'events', 'at_bat_number','pitch_number','player_name']].head(11)"
   ]
  },
  {
   "cell_type": "code",
   "execution_count": 44,
   "id": "066a47be",
   "metadata": {},
   "outputs": [
    {
     "data": {
      "text/plain": [
       "FF    0.322067\n",
       "SL    0.167108\n",
       "SI    0.147506\n",
       "CH    0.107686\n",
       "CB    0.096394\n",
       "FC    0.082580\n",
       "ST    0.054942\n",
       "FS    0.021667\n",
       "PO    0.000050\n",
       "Name: pitch_type, dtype: float64"
      ]
     },
     "execution_count": 44,
     "metadata": {},
     "output_type": "execute_result"
    }
   ],
   "source": [
    "data_pt.pitch_type.value_counts(normalize=True)"
   ]
  },
  {
   "cell_type": "code",
   "execution_count": 35,
   "id": "ea538556",
   "metadata": {},
   "outputs": [
    {
     "name": "stdout",
     "output_type": "stream",
     "text": [
      "         Pitch Sequence  Pitcher ID             At-Bat Outcome\n",
      "0                    SI      621107                field_error\n",
      "1  SI,CB,FC,SI,CB,SI,FF      621107                     single\n",
      "2     ST,ST,SI,SI,ST,ST      676534                       walk\n",
      "3        SI,ST,SI,ST,SI      687330  grounded_into_double_play\n",
      "4     FF,FF,FF,SL,FF,SL      477132                  strikeout\n"
     ]
    }
   ],
   "source": [
    "result_df = process_data(data_pt)\n",
    "print(result_df.head())"
   ]
  },
  {
   "cell_type": "code",
   "execution_count": 47,
   "id": "d232b050",
   "metadata": {},
   "outputs": [
    {
     "data": {
      "text/plain": [
       "482     Eflin, Zach\n",
       "507     Eflin, Zach\n",
       "526     Eflin, Zach\n",
       "555     Eflin, Zach\n",
       "563     Eflin, Zach\n",
       "           ...     \n",
       "3860    Eflin, Zach\n",
       "3993    Eflin, Zach\n",
       "4188    Eflin, Zach\n",
       "4258    Eflin, Zach\n",
       "4344    Eflin, Zach\n",
       "Name: player_name, Length: 297, dtype: object"
      ]
     },
     "execution_count": 47,
     "metadata": {},
     "output_type": "execute_result"
    }
   ],
   "source": [
    "data_pt[data_pt['pitcher']==621107]['player_name']"
   ]
  },
  {
   "cell_type": "code",
   "execution_count": 36,
   "id": "a0ef4ae6",
   "metadata": {},
   "outputs": [
    {
     "data": {
      "text/plain": [
       "(30671, 3)"
      ]
     },
     "execution_count": 36,
     "metadata": {},
     "output_type": "execute_result"
    }
   ],
   "source": [
    "result_df.shape"
   ]
  },
  {
   "cell_type": "code",
   "execution_count": 52,
   "id": "e88db376",
   "metadata": {},
   "outputs": [
    {
     "data": {
      "text/html": [
       "<div>\n",
       "<style scoped>\n",
       "    .dataframe tbody tr th:only-of-type {\n",
       "        vertical-align: middle;\n",
       "    }\n",
       "\n",
       "    .dataframe tbody tr th {\n",
       "        vertical-align: top;\n",
       "    }\n",
       "\n",
       "    .dataframe thead th {\n",
       "        text-align: right;\n",
       "    }\n",
       "</style>\n",
       "<table border=\"1\" class=\"dataframe\">\n",
       "  <thead>\n",
       "    <tr style=\"text-align: right;\">\n",
       "      <th></th>\n",
       "      <th>Pitch Sequence</th>\n",
       "      <th>Pitcher ID</th>\n",
       "      <th>At-Bat Outcome</th>\n",
       "    </tr>\n",
       "  </thead>\n",
       "  <tbody>\n",
       "    <tr>\n",
       "      <th>0</th>\n",
       "      <td>SI</td>\n",
       "      <td>621107</td>\n",
       "      <td>field_error</td>\n",
       "    </tr>\n",
       "    <tr>\n",
       "      <th>1</th>\n",
       "      <td>SI,CB,FC,SI,CB,SI,FF</td>\n",
       "      <td>621107</td>\n",
       "      <td>single</td>\n",
       "    </tr>\n",
       "    <tr>\n",
       "      <th>2</th>\n",
       "      <td>ST,ST,SI,SI,ST,ST</td>\n",
       "      <td>676534</td>\n",
       "      <td>walk</td>\n",
       "    </tr>\n",
       "    <tr>\n",
       "      <th>3</th>\n",
       "      <td>SI,ST,SI,ST,SI</td>\n",
       "      <td>687330</td>\n",
       "      <td>grounded_into_double_play</td>\n",
       "    </tr>\n",
       "    <tr>\n",
       "      <th>4</th>\n",
       "      <td>FF,FF,FF,SL,FF,SL</td>\n",
       "      <td>477132</td>\n",
       "      <td>strikeout</td>\n",
       "    </tr>\n",
       "  </tbody>\n",
       "</table>\n",
       "</div>"
      ],
      "text/plain": [
       "         Pitch Sequence  Pitcher ID             At-Bat Outcome\n",
       "0                    SI      621107                field_error\n",
       "1  SI,CB,FC,SI,CB,SI,FF      621107                     single\n",
       "2     ST,ST,SI,SI,ST,ST      676534                       walk\n",
       "3        SI,ST,SI,ST,SI      687330  grounded_into_double_play\n",
       "4     FF,FF,FF,SL,FF,SL      477132                  strikeout"
      ]
     },
     "execution_count": 52,
     "metadata": {},
     "output_type": "execute_result"
    }
   ],
   "source": [
    "result_df.head()"
   ]
  },
  {
   "cell_type": "code",
   "execution_count": 51,
   "id": "35445c56",
   "metadata": {},
   "outputs": [],
   "source": [
    "result_df.to_csv('../../data/sequence_data_opt.csv', index=False)"
   ]
  }
 ],
 "metadata": {
  "kernelspec": {
   "display_name": "Python 3 (ipykernel)",
   "language": "python",
   "name": "python3"
  },
  "language_info": {
   "codemirror_mode": {
    "name": "ipython",
    "version": 3
   },
   "file_extension": ".py",
   "mimetype": "text/x-python",
   "name": "python",
   "nbconvert_exporter": "python",
   "pygments_lexer": "ipython3",
   "version": "3.8.12"
  }
 },
 "nbformat": 4,
 "nbformat_minor": 5
}
